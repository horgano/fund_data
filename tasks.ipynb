{
 "cells": [
  {
   "cell_type": "markdown",
   "metadata": {},
   "source": [
    "# Fundamentals of Data Analysis Tasks\n",
    "**Niall Horgan**\n",
    "***"
   ]
  },
  {
   "cell_type": "markdown",
   "metadata": {},
   "source": [
    "## Task 1\n",
    "> The Collatz conjecture1 is a famous unsolved problem in mathematics. The problem is to prove that if you start with any positive integer x and repeatedly apply the function f(x) below, you always get stuck in the repeating sequence 1, 4, 2, 1, 4, 2, . . ."
   ]
  },
  {
   "cell_type": "code",
   "execution_count": 45,
   "metadata": {},
   "outputs": [],
   "source": [
    "def f(x):\n",
    "    # If x is even divide it by 2, \n",
    "    if x % 2 == 0:\n",
    "        return x / 2\n",
    "    else:\n",
    "    # If x is odd multiply by 3 and add 1\n",
    "        return (3 * x) + 1"
   ]
  },
  {
   "cell_type": "code",
   "execution_count": 46,
   "metadata": {},
   "outputs": [],
   "source": [
    "def collatz(x):\n",
    "    print (f'Testing Collatz with initial value {x}')\n",
    "    while x != 1:\n",
    "        x = f(x)\n",
    "        print (int(x), end=', \\n')"
   ]
  },
  {
   "cell_type": "code",
   "execution_count": 47,
   "metadata": {},
   "outputs": [
    {
     "name": "stdout",
     "output_type": "stream",
     "text": [
      "Testing Collatz with initial value 1\n",
      "Testing Collatz with initial value 2\n",
      "1, \n",
      "Testing Collatz with initial value 3\n",
      "10, \n",
      "5, \n",
      "16, \n",
      "8, \n",
      "4, \n",
      "2, \n",
      "1, \n",
      "Testing Collatz with initial value 4\n",
      "2, \n",
      "1, \n",
      "Testing Collatz with initial value 5\n",
      "16, \n",
      "8, \n",
      "4, \n",
      "2, \n",
      "1, \n",
      "Testing Collatz with initial value 6\n",
      "3, \n",
      "10, \n",
      "5, \n",
      "16, \n",
      "8, \n",
      "4, \n",
      "2, \n",
      "1, \n",
      "Testing Collatz with initial value 7\n",
      "22, \n",
      "11, \n",
      "34, \n",
      "17, \n",
      "52, \n",
      "26, \n",
      "13, \n",
      "40, \n",
      "20, \n",
      "10, \n",
      "5, \n",
      "16, \n",
      "8, \n",
      "4, \n",
      "2, \n",
      "1, \n",
      "Testing Collatz with initial value 8\n",
      "4, \n",
      "2, \n",
      "1, \n",
      "Testing Collatz with initial value 9\n",
      "28, \n",
      "14, \n",
      "7, \n",
      "22, \n",
      "11, \n",
      "34, \n",
      "17, \n",
      "52, \n",
      "26, \n",
      "13, \n",
      "40, \n",
      "20, \n",
      "10, \n",
      "5, \n",
      "16, \n",
      "8, \n",
      "4, \n",
      "2, \n",
      "1, \n"
     ]
    }
   ],
   "source": [
    "for i in range(1,10):\n",
    "   collatz (i)"
   ]
  },
  {
   "cell_type": "code",
   "execution_count": null,
   "metadata": {},
   "outputs": [],
   "source": []
  },
  {
   "cell_type": "markdown",
   "metadata": {},
   "source": [
    "***\n",
    "End"
   ]
  },
  {
   "cell_type": "code",
   "execution_count": null,
   "metadata": {},
   "outputs": [],
   "source": []
  }
 ],
 "metadata": {
  "kernelspec": {
   "display_name": "Python 3",
   "language": "python",
   "name": "python3"
  },
  "language_info": {
   "codemirror_mode": {
    "name": "ipython",
    "version": 3
   },
   "file_extension": ".py",
   "mimetype": "text/x-python",
   "name": "python",
   "nbconvert_exporter": "python",
   "pygments_lexer": "ipython3",
   "version": "3.11.5"
  }
 },
 "nbformat": 4,
 "nbformat_minor": 2
}
