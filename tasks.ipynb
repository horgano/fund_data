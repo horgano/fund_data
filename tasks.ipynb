{
 "cells": [
  {
   "cell_type": "markdown",
   "metadata": {},
   "source": [
    "# Fundamentals of Data Analysis Tasks\n",
    "**Niall Horgan**\n",
    "***"
   ]
  },
  {
   "cell_type": "markdown",
   "metadata": {},
   "source": [
    "## Task 1\n",
    "> The Collatz conjecture1 is a famous unsolved problem in mathematics. The problem is to prove that if you start with any positive integer x and repeatedly apply the function f(x) below, you always get stuck in the repeating sequence 1, 4, 2, 1, 4, 2, . . ."
   ]
  },
  {
   "cell_type": "code",
   "execution_count": 1,
   "metadata": {},
   "outputs": [],
   "source": [
    "def f(x):\n",
    "    # If x is even divide it by 2, \n",
    "    if x % 2 == 0:\n",
    "        return x / 2\n",
    "    else:\n",
    "    # If x is odd multiply by 3 and add 1\n",
    "        return (3 * x) + 1"
   ]
  },
  {
   "cell_type": "code",
   "execution_count": 5,
   "metadata": {},
   "outputs": [],
   "source": [
    "def collatz(x):\n",
    "    collatz_lists = []\n",
    "    #print (f'Testing Collatz with initial value {x}: \\n')\n",
    "    while x != 1:\n",
    "        x = f(x)                           \n",
    "        #print (int(x), end=', ')\n",
    "        collatz_lists.append(int(x))\n",
    "        \n",
    "    return collatz_lists\n",
    "\n",
    "    #if collatz_lists[-1] == 1 :\n",
    "    #    print (f'True')\n",
    "   # else:\n",
    "    #    print (f'Theory is unproven')\n",
    "    #print (collatz_lists)\n",
    "    \n",
    "    \n",
    "    \n",
    "    print ('\\n')\n",
    "       "
   ]
  },
  {
   "cell_type": "code",
   "execution_count": 6,
   "metadata": {},
   "outputs": [],
   "source": [
    "for i in range(1,6):  \n",
    "    collatz(i)\n",
    "    #final_digit = outputs[-1]\n",
    "    #if final_digit[-1] == 1:\n",
    "    #    print (f'The rule is true')\n",
    "    #else:\n",
    "    #    print (f'The rule is not proven')\n",
    " #   list_end = collatz_list[-1]\n",
    "    #if list_end ==1:\n",
    "   #     print (\"NO\")\n",
    "    #else:\n",
    "     #   print(\"YES\")\n",
    "       "
   ]
  },
  {
   "cell_type": "code",
   "execution_count": 4,
   "metadata": {},
   "outputs": [],
   "source": [
    "#for lists in range(1,10)"
   ]
  },
  {
   "cell_type": "markdown",
   "metadata": {},
   "source": [
    "# Task 2\n",
    "> Give an overview of the famous penguins data set, explaining the types of variables it contains. Suggest the types of variables that should be used to model them in Python, explaining your rationale\n"
   ]
  },
  {
   "cell_type": "markdown",
   "metadata": {},
   "source": [
    "Thw \"Palmer Penguins Data Set\" is a popular data set in the field of Data Analysis. The data is collected from 3 islands in the Palmer Archipelago, Antartica. It's similar to the Iris data set but focuses on Penguin species intead of Iris species.\n",
    "\n",
    "Variables in the data set include:\n",
    "Species: Adelie, Chinstrap, Gentoo\n",
    "Island: Biscoe, Dream, Torgensen\n",
    "Bill length (mm)\n",
    "Bill depth (mm)\n",
    "Flipper length (mm)\n",
    "Body mass (g)\n",
    "Sex: Male, Female\n",
    "\n",
    "https://github.com/allisonhorst/palmerpenguins\n",
    "https://www.kaggle.com/code/parulpandey/penguin-dataset-the-new-iris\n",
    "\n",
    "Species, Island & Sex are each Categorical variables as these have a finite number of options.\n",
    "Every other is of Numerical/Continuous dtype as they are measures of size or length.\n"
   ]
  },
  {
   "cell_type": "markdown",
   "metadata": {},
   "source": [
    "# Task 3\n",
    "> For each of the variables in the penguins data set, suggest what probability distribution from the numpy random distributions list is the most appropriate to model the variable"
   ]
  },
  {
   "cell_type": "code",
   "execution_count": null,
   "metadata": {},
   "outputs": [],
   "source": []
  },
  {
   "cell_type": "markdown",
   "metadata": {},
   "source": [
    "# Task 4\n",
    "> Suppose you are flipping two coins, each with a probability p of giving heads. Plot the entropy of the total number of heads versus p."
   ]
  },
  {
   "cell_type": "code",
   "execution_count": null,
   "metadata": {},
   "outputs": [],
   "source": []
  },
  {
   "cell_type": "markdown",
   "metadata": {},
   "source": [
    "# Task 5\n",
    "> Create an appropriate individual plot for each of the variables in the penguin data se"
   ]
  },
  {
   "cell_type": "markdown",
   "metadata": {},
   "source": [
    "***\n",
    "End"
   ]
  },
  {
   "cell_type": "code",
   "execution_count": null,
   "metadata": {},
   "outputs": [],
   "source": []
  }
 ],
 "metadata": {
  "kernelspec": {
   "display_name": "Python 3 (ipykernel)",
   "language": "python",
   "name": "python3"
  },
  "language_info": {
   "codemirror_mode": {
    "name": "ipython",
    "version": 3
   },
   "file_extension": ".py",
   "mimetype": "text/x-python",
   "name": "python",
   "nbconvert_exporter": "python",
   "pygments_lexer": "ipython3",
   "version": "3.11.5"
  }
 },
 "nbformat": 4,
 "nbformat_minor": 2
}
