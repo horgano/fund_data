{
 "cells": [
  {
   "cell_type": "markdown",
   "metadata": {},
   "source": [
    "# Fundamentals of Data Analysis Tasks\n",
    "**Niall Horgan**\n",
    "***"
   ]
  },
  {
   "cell_type": "markdown",
   "metadata": {},
   "source": [
    "## Task 1\n",
    "> The Collatz conjecture1 is a famous unsolved problem in mathematics. The problem is to prove that if you start with any positive integer x and repeatedly apply the function f(x) below, you always get stuck in the repeating sequence 1, 4, 2, 1, 4, 2, . . ."
   ]
  },
  {
   "cell_type": "code",
   "execution_count": 1,
   "metadata": {},
   "outputs": [],
   "source": [
    "def f(x):\n",
    "    # If x is even divide it by 2, \n",
    "    if x % 2 == 0:\n",
    "        return x / 2\n",
    "    else:\n",
    "    # If x is odd multiply by 3 and add 1\n",
    "        return (3 * x) + 1"
   ]
  },
  {
   "cell_type": "code",
   "execution_count": 2,
   "metadata": {},
   "outputs": [],
   "source": [
    "def collatz(x):\n",
    "    collatz_lists = []\n",
    "    #print (f'Testing Collatz with initial value {x}: \\n')\n",
    "    while x != 1:\n",
    "        x = f(x)                           \n",
    "        #print (int(x), end=', ')\n",
    "        collatz_lists.append(int(x))\n",
    "    print (collatz_lists)\n",
    "    print ('\\n')\n",
    "       "
   ]
  },
  {
   "cell_type": "code",
   "execution_count": 3,
   "metadata": {},
   "outputs": [
    {
     "name": "stdout",
     "output_type": "stream",
     "text": [
      "[]\n",
      "\n",
      "\n",
      "1, [1]\n",
      "\n",
      "\n",
      "10, 5, 16, 8, 4, 2, 1, [10, 5, 16, 8, 4, 2, 1]\n",
      "\n",
      "\n",
      "2, 1, [2, 1]\n",
      "\n",
      "\n",
      "16, 8, 4, 2, 1, [16, 8, 4, 2, 1]\n",
      "\n",
      "\n",
      "3, 10, 5, 16, 8, 4, 2, 1, [3, 10, 5, 16, 8, 4, 2, 1]\n",
      "\n",
      "\n",
      "22, 11, 34, 17, 52, 26, 13, 40, 20, 10, 5, 16, 8, 4, 2, 1, [22, 11, 34, 17, 52, 26, 13, 40, 20, 10, 5, 16, 8, 4, 2, 1]\n",
      "\n",
      "\n",
      "4, 2, 1, [4, 2, 1]\n",
      "\n",
      "\n",
      "28, 14, 7, 22, 11, 34, 17, 52, 26, 13, 40, 20, 10, 5, 16, 8, 4, 2, 1, [28, 14, 7, 22, 11, 34, 17, 52, 26, 13, 40, 20, 10, 5, 16, 8, 4, 2, 1]\n",
      "\n",
      "\n",
      "5, 16, 8, 4, 2, 1, [5, 16, 8, 4, 2, 1]\n",
      "\n",
      "\n"
     ]
    }
   ],
   "source": [
    "for i in range(1,11): \n",
    " #   list_end = collatz_list[-1]\n",
    "    #if list_end ==1:\n",
    "   #     print (\"NO\")\n",
    "    #else:\n",
    "     #   print(\"YES\")\n",
    "    collatz (i)\n",
    "   "
   ]
  },
  {
   "cell_type": "code",
   "execution_count": 4,
   "metadata": {},
   "outputs": [],
   "source": [
    "#for lists in range(1,10)"
   ]
  },
  {
   "cell_type": "code",
   "execution_count": null,
   "metadata": {},
   "outputs": [],
   "source": []
  },
  {
   "cell_type": "markdown",
   "metadata": {},
   "source": [
    "***\n",
    "End"
   ]
  },
  {
   "cell_type": "code",
   "execution_count": null,
   "metadata": {},
   "outputs": [],
   "source": []
  }
 ],
 "metadata": {
  "kernelspec": {
   "display_name": "Python 3 (ipykernel)",
   "language": "python",
   "name": "python3"
  },
  "language_info": {
   "codemirror_mode": {
    "name": "ipython",
    "version": 3
   },
   "file_extension": ".py",
   "mimetype": "text/x-python",
   "name": "python",
   "nbconvert_exporter": "python",
   "pygments_lexer": "ipython3",
   "version": "3.11.5"
  }
 },
 "nbformat": 4,
 "nbformat_minor": 2
}
